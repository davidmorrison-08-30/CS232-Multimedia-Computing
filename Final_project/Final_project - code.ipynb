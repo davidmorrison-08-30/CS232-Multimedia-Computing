{
  "nbformat": 4,
  "nbformat_minor": 0,
  "metadata": {
    "colab": {
      "provenance": [],
      "collapsed_sections": [
        "ZCu6YxfSsHXg",
        "JFMR4uNrJrJk",
        "v4ZcBHsKoNkf"
      ],
      "gpuType": "T4"
    },
    "kernelspec": {
      "name": "python3",
      "display_name": "Python 3"
    },
    "language_info": {
      "name": "python"
    },
    "accelerator": "GPU"
  },
  "cells": [
    {
      "cell_type": "code",
      "source": [
        "!pip install gradio"
      ],
      "metadata": {
        "id": "wOaqiPU8nQEu",
        "colab": {
          "base_uri": "https://localhost:8080/"
        },
        "outputId": "c74413b5-198c-409d-ecdf-a438864780aa"
      },
      "execution_count": null,
      "outputs": [
        {
          "output_type": "stream",
          "name": "stdout",
          "text": [
            "Collecting gradio\n",
            "  Using cached gradio-3.36.1-py3-none-any.whl (19.8 MB)\n",
            "Collecting aiofiles (from gradio)\n",
            "  Using cached aiofiles-23.1.0-py3-none-any.whl (14 kB)\n",
            "Requirement already satisfied: aiohttp in /usr/local/lib/python3.10/dist-packages (from gradio) (3.8.4)\n",
            "Requirement already satisfied: altair>=4.2.0 in /usr/local/lib/python3.10/dist-packages (from gradio) (4.2.2)\n",
            "Collecting fastapi (from gradio)\n",
            "  Using cached fastapi-0.100.0-py3-none-any.whl (65 kB)\n",
            "Collecting ffmpy (from gradio)\n",
            "  Using cached ffmpy-0.3.0.tar.gz (4.8 kB)\n",
            "  Preparing metadata (setup.py) ... \u001b[?25l\u001b[?25hdone\n",
            "Collecting gradio-client>=0.2.7 (from gradio)\n",
            "  Using cached gradio_client-0.2.7-py3-none-any.whl (288 kB)\n",
            "Collecting httpx (from gradio)\n",
            "  Using cached httpx-0.24.1-py3-none-any.whl (75 kB)\n",
            "Collecting huggingface-hub>=0.14.0 (from gradio)\n",
            "  Using cached huggingface_hub-0.16.4-py3-none-any.whl (268 kB)\n",
            "Requirement already satisfied: jinja2 in /usr/local/lib/python3.10/dist-packages (from gradio) (3.1.2)\n",
            "Requirement already satisfied: markdown-it-py[linkify]>=2.0.0 in /usr/local/lib/python3.10/dist-packages (from gradio) (3.0.0)\n",
            "Requirement already satisfied: markupsafe in /usr/local/lib/python3.10/dist-packages (from gradio) (2.1.3)\n",
            "Requirement already satisfied: matplotlib in /usr/local/lib/python3.10/dist-packages (from gradio) (3.7.1)\n",
            "Collecting mdit-py-plugins<=0.3.3 (from gradio)\n",
            "  Using cached mdit_py_plugins-0.3.3-py3-none-any.whl (50 kB)\n",
            "Requirement already satisfied: numpy in /usr/local/lib/python3.10/dist-packages (from gradio) (1.22.4)\n",
            "Collecting orjson (from gradio)\n",
            "  Downloading orjson-3.9.2-cp310-cp310-manylinux_2_17_x86_64.manylinux2014_x86_64.whl (138 kB)\n",
            "\u001b[2K     \u001b[90m━━━━━━━━━━━━━━━━━━━━━━━━━━━━━━━━━━━━━━━\u001b[0m \u001b[32m138.7/138.7 kB\u001b[0m \u001b[31m3.6 MB/s\u001b[0m eta \u001b[36m0:00:00\u001b[0m\n",
            "\u001b[?25hRequirement already satisfied: pandas in /usr/local/lib/python3.10/dist-packages (from gradio) (1.5.3)\n",
            "Requirement already satisfied: pillow in /usr/local/lib/python3.10/dist-packages (from gradio) (8.4.0)\n",
            "Requirement already satisfied: pydantic in /usr/local/lib/python3.10/dist-packages (from gradio) (1.10.9)\n",
            "Collecting pydub (from gradio)\n",
            "  Downloading pydub-0.25.1-py2.py3-none-any.whl (32 kB)\n",
            "Requirement already satisfied: pygments>=2.12.0 in /usr/local/lib/python3.10/dist-packages (from gradio) (2.14.0)\n",
            "Collecting python-multipart (from gradio)\n",
            "  Downloading python_multipart-0.0.6-py3-none-any.whl (45 kB)\n",
            "\u001b[2K     \u001b[90m━━━━━━━━━━━━━━━━━━━━━━━━━━━━━━━━━━━━━━━━\u001b[0m \u001b[32m45.7/45.7 kB\u001b[0m \u001b[31m5.8 MB/s\u001b[0m eta \u001b[36m0:00:00\u001b[0m\n",
            "\u001b[?25hRequirement already satisfied: pyyaml in /usr/local/lib/python3.10/dist-packages (from gradio) (6.0)\n",
            "Requirement already satisfied: requests in /usr/local/lib/python3.10/dist-packages (from gradio) (2.27.1)\n",
            "Collecting semantic-version (from gradio)\n",
            "  Downloading semantic_version-2.10.0-py2.py3-none-any.whl (15 kB)\n",
            "Collecting uvicorn>=0.14.0 (from gradio)\n",
            "  Downloading uvicorn-0.22.0-py3-none-any.whl (58 kB)\n",
            "\u001b[2K     \u001b[90m━━━━━━━━━━━━━━━━━━━━━━━━━━━━━━━━━━━━━━━━\u001b[0m \u001b[32m58.3/58.3 kB\u001b[0m \u001b[31m6.7 MB/s\u001b[0m eta \u001b[36m0:00:00\u001b[0m\n",
            "\u001b[?25hCollecting websockets>=10.0 (from gradio)\n",
            "  Downloading websockets-11.0.3-cp310-cp310-manylinux_2_5_x86_64.manylinux1_x86_64.manylinux_2_17_x86_64.manylinux2014_x86_64.whl (129 kB)\n",
            "\u001b[2K     \u001b[90m━━━━━━━━━━━━━━━━━━━━━━━━━━━━━━━━━━━━━━\u001b[0m \u001b[32m129.9/129.9 kB\u001b[0m \u001b[31m12.0 MB/s\u001b[0m eta \u001b[36m0:00:00\u001b[0m\n",
            "\u001b[?25hRequirement already satisfied: entrypoints in /usr/local/lib/python3.10/dist-packages (from altair>=4.2.0->gradio) (0.4)\n",
            "Requirement already satisfied: jsonschema>=3.0 in /usr/local/lib/python3.10/dist-packages (from altair>=4.2.0->gradio) (4.3.3)\n",
            "Requirement already satisfied: toolz in /usr/local/lib/python3.10/dist-packages (from altair>=4.2.0->gradio) (0.12.0)\n",
            "Requirement already satisfied: fsspec in /usr/local/lib/python3.10/dist-packages (from gradio-client>=0.2.7->gradio) (2023.6.0)\n",
            "Requirement already satisfied: packaging in /usr/local/lib/python3.10/dist-packages (from gradio-client>=0.2.7->gradio) (23.1)\n",
            "Requirement already satisfied: typing-extensions in /usr/local/lib/python3.10/dist-packages (from gradio-client>=0.2.7->gradio) (4.6.3)\n",
            "Requirement already satisfied: filelock in /usr/local/lib/python3.10/dist-packages (from huggingface-hub>=0.14.0->gradio) (3.12.2)\n",
            "Requirement already satisfied: tqdm>=4.42.1 in /usr/local/lib/python3.10/dist-packages (from huggingface-hub>=0.14.0->gradio) (4.65.0)\n",
            "Requirement already satisfied: mdurl~=0.1 in /usr/local/lib/python3.10/dist-packages (from markdown-it-py[linkify]>=2.0.0->gradio) (0.1.2)\n",
            "Collecting linkify-it-py<3,>=1 (from markdown-it-py[linkify]>=2.0.0->gradio)\n",
            "  Downloading linkify_it_py-2.0.2-py3-none-any.whl (19 kB)\n",
            "INFO: pip is looking at multiple versions of mdit-py-plugins to determine which version is compatible with other requirements. This could take a while.\n",
            "Collecting mdit-py-plugins<=0.3.3 (from gradio)\n",
            "  Downloading mdit_py_plugins-0.3.2-py3-none-any.whl (50 kB)\n",
            "\u001b[2K     \u001b[90m━━━━━━━━━━━━━━━━━━━━━━━━━━━━━━━━━━━━━━━━\u001b[0m \u001b[32m50.4/50.4 kB\u001b[0m \u001b[31m5.4 MB/s\u001b[0m eta \u001b[36m0:00:00\u001b[0m\n",
            "\u001b[?25h  Downloading mdit_py_plugins-0.3.1-py3-none-any.whl (46 kB)\n",
            "\u001b[2K     \u001b[90m━━━━━━━━━━━━━━━━━━━━━━━━━━━━━━━━━━━━━━━━\u001b[0m \u001b[32m46.5/46.5 kB\u001b[0m \u001b[31m5.4 MB/s\u001b[0m eta \u001b[36m0:00:00\u001b[0m\n",
            "\u001b[?25h  Downloading mdit_py_plugins-0.3.0-py3-none-any.whl (43 kB)\n",
            "\u001b[2K     \u001b[90m━━━━━━━━━━━━━━━━━━━━━━━━━━━━━━━━━━━━━━━━\u001b[0m \u001b[32m43.7/43.7 kB\u001b[0m \u001b[31m5.7 MB/s\u001b[0m eta \u001b[36m0:00:00\u001b[0m\n",
            "\u001b[?25h  Downloading mdit_py_plugins-0.2.8-py3-none-any.whl (41 kB)\n",
            "\u001b[2K     \u001b[90m━━━━━━━━━━━━━━━━━━━━━━━━━━━━━━━━━━━━━━━━\u001b[0m \u001b[32m41.0/41.0 kB\u001b[0m \u001b[31m4.7 MB/s\u001b[0m eta \u001b[36m0:00:00\u001b[0m\n",
            "\u001b[?25h  Downloading mdit_py_plugins-0.2.7-py3-none-any.whl (41 kB)\n",
            "\u001b[2K     \u001b[90m━━━━━━━━━━━━━━━━━━━━━━━━━━━━━━━━━━━━━━━━\u001b[0m \u001b[32m41.0/41.0 kB\u001b[0m \u001b[31m5.0 MB/s\u001b[0m eta \u001b[36m0:00:00\u001b[0m\n",
            "\u001b[?25h  Downloading mdit_py_plugins-0.2.6-py3-none-any.whl (39 kB)\n",
            "  Downloading mdit_py_plugins-0.2.5-py3-none-any.whl (39 kB)\n",
            "INFO: pip is looking at multiple versions of mdit-py-plugins to determine which version is compatible with other requirements. This could take a while.\n",
            "  Downloading mdit_py_plugins-0.2.4-py3-none-any.whl (39 kB)\n",
            "  Downloading mdit_py_plugins-0.2.3-py3-none-any.whl (39 kB)\n",
            "  Downloading mdit_py_plugins-0.2.2-py3-none-any.whl (39 kB)\n",
            "  Downloading mdit_py_plugins-0.2.1-py3-none-any.whl (38 kB)\n",
            "  Downloading mdit_py_plugins-0.2.0-py3-none-any.whl (38 kB)\n",
            "INFO: This is taking longer than usual. You might need to provide the dependency resolver with stricter constraints to reduce runtime. See https://pip.pypa.io/warnings/backtracking for guidance. If you want to abort this run, press Ctrl + C.\n",
            "  Downloading mdit_py_plugins-0.1.0-py3-none-any.whl (37 kB)\n",
            "Collecting markdown-it-py[linkify]>=2.0.0 (from gradio)\n",
            "  Downloading markdown_it_py-3.0.0-py3-none-any.whl (87 kB)\n",
            "\u001b[2K     \u001b[90m━━━━━━━━━━━━━━━━━━━━━━━━━━━━━━━━━━━━━━━━\u001b[0m \u001b[32m87.5/87.5 kB\u001b[0m \u001b[31m10.1 MB/s\u001b[0m eta \u001b[36m0:00:00\u001b[0m\n",
            "\u001b[?25h  Downloading markdown_it_py-2.2.0-py3-none-any.whl (84 kB)\n",
            "\u001b[2K     \u001b[90m━━━━━━━━━━━━━━━━━━━━━━━━━━━━━━━━━━━━━━━━\u001b[0m \u001b[32m84.5/84.5 kB\u001b[0m \u001b[31m10.5 MB/s\u001b[0m eta \u001b[36m0:00:00\u001b[0m\n",
            "\u001b[?25hRequirement already satisfied: python-dateutil>=2.8.1 in /usr/local/lib/python3.10/dist-packages (from pandas->gradio) (2.8.2)\n",
            "Requirement already satisfied: pytz>=2020.1 in /usr/local/lib/python3.10/dist-packages (from pandas->gradio) (2022.7.1)\n",
            "Requirement already satisfied: click>=7.0 in /usr/local/lib/python3.10/dist-packages (from uvicorn>=0.14.0->gradio) (8.1.3)\n",
            "Collecting h11>=0.8 (from uvicorn>=0.14.0->gradio)\n",
            "  Downloading h11-0.14.0-py3-none-any.whl (58 kB)\n",
            "\u001b[2K     \u001b[90m━━━━━━━━━━━━━━━━━━━━━━━━━━━━━━━━━━━━━━━━\u001b[0m \u001b[32m58.3/58.3 kB\u001b[0m \u001b[31m7.7 MB/s\u001b[0m eta \u001b[36m0:00:00\u001b[0m\n",
            "\u001b[?25hRequirement already satisfied: attrs>=17.3.0 in /usr/local/lib/python3.10/dist-packages (from aiohttp->gradio) (23.1.0)\n",
            "Requirement already satisfied: charset-normalizer<4.0,>=2.0 in /usr/local/lib/python3.10/dist-packages (from aiohttp->gradio) (2.0.12)\n",
            "Requirement already satisfied: multidict<7.0,>=4.5 in /usr/local/lib/python3.10/dist-packages (from aiohttp->gradio) (6.0.4)\n",
            "Requirement already satisfied: async-timeout<5.0,>=4.0.0a3 in /usr/local/lib/python3.10/dist-packages (from aiohttp->gradio) (4.0.2)\n",
            "Requirement already satisfied: yarl<2.0,>=1.0 in /usr/local/lib/python3.10/dist-packages (from aiohttp->gradio) (1.9.2)\n",
            "Requirement already satisfied: frozenlist>=1.1.1 in /usr/local/lib/python3.10/dist-packages (from aiohttp->gradio) (1.3.3)\n",
            "Requirement already satisfied: aiosignal>=1.1.2 in /usr/local/lib/python3.10/dist-packages (from aiohttp->gradio) (1.3.1)\n",
            "Collecting starlette<0.28.0,>=0.27.0 (from fastapi->gradio)\n",
            "  Downloading starlette-0.27.0-py3-none-any.whl (66 kB)\n",
            "\u001b[2K     \u001b[90m━━━━━━━━━━━━━━━━━━━━━━━━━━━━━━━━━━━━━━━━\u001b[0m \u001b[32m67.0/67.0 kB\u001b[0m \u001b[31m8.3 MB/s\u001b[0m eta \u001b[36m0:00:00\u001b[0m\n",
            "\u001b[?25hRequirement already satisfied: certifi in /usr/local/lib/python3.10/dist-packages (from httpx->gradio) (2023.5.7)\n",
            "Collecting httpcore<0.18.0,>=0.15.0 (from httpx->gradio)\n",
            "  Downloading httpcore-0.17.3-py3-none-any.whl (74 kB)\n",
            "\u001b[2K     \u001b[90m━━━━━━━━━━━━━━━━━━━━━━━━━━━━━━━━━━━━━━━━\u001b[0m \u001b[32m74.5/74.5 kB\u001b[0m \u001b[31m8.7 MB/s\u001b[0m eta \u001b[36m0:00:00\u001b[0m\n",
            "\u001b[?25hRequirement already satisfied: idna in /usr/local/lib/python3.10/dist-packages (from httpx->gradio) (3.4)\n",
            "Requirement already satisfied: sniffio in /usr/local/lib/python3.10/dist-packages (from httpx->gradio) (1.3.0)\n",
            "Requirement already satisfied: contourpy>=1.0.1 in /usr/local/lib/python3.10/dist-packages (from matplotlib->gradio) (1.1.0)\n",
            "Requirement already satisfied: cycler>=0.10 in /usr/local/lib/python3.10/dist-packages (from matplotlib->gradio) (0.11.0)\n",
            "Requirement already satisfied: fonttools>=4.22.0 in /usr/local/lib/python3.10/dist-packages (from matplotlib->gradio) (4.40.0)\n",
            "Requirement already satisfied: kiwisolver>=1.0.1 in /usr/local/lib/python3.10/dist-packages (from matplotlib->gradio) (1.4.4)\n",
            "Requirement already satisfied: pyparsing>=2.3.1 in /usr/local/lib/python3.10/dist-packages (from matplotlib->gradio) (3.1.0)\n",
            "Requirement already satisfied: urllib3<1.27,>=1.21.1 in /usr/local/lib/python3.10/dist-packages (from requests->gradio) (1.26.16)\n",
            "Requirement already satisfied: anyio<5.0,>=3.0 in /usr/local/lib/python3.10/dist-packages (from httpcore<0.18.0,>=0.15.0->httpx->gradio) (3.7.0)\n",
            "Requirement already satisfied: pyrsistent!=0.17.0,!=0.17.1,!=0.17.2,>=0.14.0 in /usr/local/lib/python3.10/dist-packages (from jsonschema>=3.0->altair>=4.2.0->gradio) (0.19.3)\n",
            "Collecting uc-micro-py (from linkify-it-py<3,>=1->markdown-it-py[linkify]>=2.0.0->gradio)\n",
            "  Downloading uc_micro_py-1.0.2-py3-none-any.whl (6.2 kB)\n",
            "Requirement already satisfied: six>=1.5 in /usr/local/lib/python3.10/dist-packages (from python-dateutil>=2.8.1->pandas->gradio) (1.16.0)\n",
            "Requirement already satisfied: exceptiongroup in /usr/local/lib/python3.10/dist-packages (from anyio<5.0,>=3.0->httpcore<0.18.0,>=0.15.0->httpx->gradio) (1.1.1)\n",
            "Building wheels for collected packages: ffmpy\n",
            "  Building wheel for ffmpy (setup.py) ... \u001b[?25l\u001b[?25hdone\n",
            "  Created wheel for ffmpy: filename=ffmpy-0.3.0-py3-none-any.whl size=4694 sha256=af4c34678466128ff6cd91be462ab23b242b12adbd02bc4c56bc07f7e90472c4\n",
            "  Stored in directory: /root/.cache/pip/wheels/0c/c2/0e/3b9c6845c6a4e35beb90910cc70d9ac9ab5d47402bd62af0df\n",
            "Successfully built ffmpy\n",
            "Installing collected packages: pydub, ffmpy, websockets, uc-micro-py, semantic-version, python-multipart, orjson, markdown-it-py, h11, aiofiles, uvicorn, starlette, mdit-py-plugins, linkify-it-py, huggingface-hub, httpcore, httpx, fastapi, gradio-client, gradio\n",
            "  Attempting uninstall: markdown-it-py\n",
            "    Found existing installation: markdown-it-py 3.0.0\n",
            "    Uninstalling markdown-it-py-3.0.0:\n",
            "      Successfully uninstalled markdown-it-py-3.0.0\n",
            "Successfully installed aiofiles-23.1.0 fastapi-0.100.0 ffmpy-0.3.0 gradio-3.36.1 gradio-client-0.2.7 h11-0.14.0 httpcore-0.17.3 httpx-0.24.1 huggingface-hub-0.16.4 linkify-it-py-2.0.2 markdown-it-py-2.2.0 mdit-py-plugins-0.3.3 orjson-3.9.2 pydub-0.25.1 python-multipart-0.0.6 semantic-version-2.10.0 starlette-0.27.0 uc-micro-py-1.0.2 uvicorn-0.22.0 websockets-11.0.3\n"
          ]
        }
      ]
    },
    {
      "cell_type": "code",
      "source": [
        "import gradio as gr\n",
        "import time\n",
        "import tempfile"
      ],
      "metadata": {
        "id": "Gg2Phjx7KlM5"
      },
      "execution_count": null,
      "outputs": []
    },
    {
      "cell_type": "markdown",
      "source": [
        "# **Run Length Encoding**"
      ],
      "metadata": {
        "id": "ZCu6YxfSsHXg"
      }
    },
    {
      "cell_type": "code",
      "source": [
        "def encode_rle(data):\n",
        "    compressed_data = ''\n",
        "    i = 0\n",
        "    while i < len(data):\n",
        "        count = 1\n",
        "        while i + count < len(data) and data[i + count] == data[i]:\n",
        "            count += 1\n",
        "        if count > 2:  # Áp dụng nén RLE chỉ khi có ít nhất 3 ký tự lặp lại\n",
        "            compressed_data += str(count) + data[i]\n",
        "        else:  # Nếu chuỗi lặp lại ngắn, bỏ qua nén RLE và ghi lại từng ký tự\n",
        "            compressed_data += data[i] * count\n",
        "        i += count\n",
        "    return compressed_data\n",
        "\n",
        "\n",
        "def decode_rle(data):\n",
        "    decoded_string = ''\n",
        "    count = ''\n",
        "\n",
        "    for char in data:\n",
        "        if char.isdigit():\n",
        "            count += char\n",
        "        else:\n",
        "            if count:\n",
        "                decoded_string += char * int(count)\n",
        "            else:\n",
        "                decoded_string += char\n",
        "            count = ''\n",
        "\n",
        "    return decoded_string"
      ],
      "metadata": {
        "id": "KevQbjcyOBnt"
      },
      "execution_count": null,
      "outputs": []
    },
    {
      "cell_type": "markdown",
      "source": [
        "**Input a string to encode or decode**"
      ],
      "metadata": {
        "id": "EcvAs0e4qHwI"
      }
    },
    {
      "cell_type": "code",
      "execution_count": null,
      "metadata": {
        "id": "zEgnp_55nKB5",
        "colab": {
          "base_uri": "https://localhost:8080/",
          "height": 810
        },
        "outputId": "1d86298c-bc23-4995-bfad-d8e657f95e5f"
      },
      "outputs": [
        {
          "output_type": "stream",
          "name": "stderr",
          "text": [
            "<ipython-input-39-a7cf6f0d29f6>:19: GradioDeprecationWarning: Usage of gradio.inputs is deprecated, and will not be supported in the future, please import your component from gradio.components\n",
            "  gr.inputs.Textbox(lines=3, label=\"Input String\"),\n",
            "<ipython-input-39-a7cf6f0d29f6>:19: GradioDeprecationWarning: `optional` parameter is deprecated, and it has no effect\n",
            "  gr.inputs.Textbox(lines=3, label=\"Input String\"),\n",
            "<ipython-input-39-a7cf6f0d29f6>:19: GradioDeprecationWarning: `numeric` parameter is deprecated, and it has no effect\n",
            "  gr.inputs.Textbox(lines=3, label=\"Input String\"),\n",
            "<ipython-input-39-a7cf6f0d29f6>:20: GradioDeprecationWarning: Usage of gradio.inputs is deprecated, and will not be supported in the future, please import your component from gradio.components\n",
            "  gr.inputs.Radio([\"Encode\", \"Decode\"], label=\"Mode\")\n",
            "<ipython-input-39-a7cf6f0d29f6>:20: GradioDeprecationWarning: `optional` parameter is deprecated, and it has no effect\n",
            "  gr.inputs.Radio([\"Encode\", \"Decode\"], label=\"Mode\")\n"
          ]
        },
        {
          "output_type": "stream",
          "name": "stdout",
          "text": [
            "Colab notebook detected. To show errors in colab notebook, set debug=True in launch()\n",
            "Note: opening Chrome Inspector may crash demo inside Colab notebooks.\n",
            "\n",
            "To create a public link, set `share=True` in `launch()`.\n"
          ]
        },
        {
          "output_type": "display_data",
          "data": {
            "text/plain": [
              "<IPython.core.display.Javascript object>"
            ],
            "application/javascript": [
              "(async (port, path, width, height, cache, element) => {\n",
              "                        if (!google.colab.kernel.accessAllowed && !cache) {\n",
              "                            return;\n",
              "                        }\n",
              "                        element.appendChild(document.createTextNode(''));\n",
              "                        const url = await google.colab.kernel.proxyPort(port, {cache});\n",
              "\n",
              "                        const external_link = document.createElement('div');\n",
              "                        external_link.innerHTML = `\n",
              "                            <div style=\"font-family: monospace; margin-bottom: 0.5rem\">\n",
              "                                Running on <a href=${new URL(path, url).toString()} target=\"_blank\">\n",
              "                                    https://localhost:${port}${path}\n",
              "                                </a>\n",
              "                            </div>\n",
              "                        `;\n",
              "                        element.appendChild(external_link);\n",
              "\n",
              "                        const iframe = document.createElement('iframe');\n",
              "                        iframe.src = new URL(path, url).toString();\n",
              "                        iframe.height = height;\n",
              "                        iframe.allow = \"autoplay; camera; microphone; clipboard-read; clipboard-write;\"\n",
              "                        iframe.width = width;\n",
              "                        iframe.style.border = 0;\n",
              "                        element.appendChild(iframe);\n",
              "                    })(7875, \"/\", \"100%\", 500, false, window.element)"
            ]
          },
          "metadata": {}
        },
        {
          "output_type": "execute_result",
          "data": {
            "text/plain": []
          },
          "metadata": {},
          "execution_count": 39
        }
      ],
      "source": [
        "def rle_interface_str(input_string, mode):\n",
        "    if mode == \"Encode\":\n",
        "        start_time = time.time()\n",
        "        result = encode_rle(input_string)\n",
        "        end_time = time.time()\n",
        "    else:\n",
        "        start_time = time.time()\n",
        "        result = decode_rle(input_string)\n",
        "        end_time = time.time()\n",
        "    execution_time = end_time - start_time\n",
        "    return result, execution_time\n",
        "\n",
        "\n",
        "iface = gr.Interface(\n",
        "    fn=rle_interface_str,\n",
        "    inputs=[\n",
        "        gr.inputs.Textbox(lines=3, label=\"Input String\"),\n",
        "        gr.inputs.Radio([\"Encode\", \"Decode\"], label=\"Mode\")\n",
        "    ],\n",
        "    outputs=[\n",
        "        gr.outputs.Textbox(label=\"Output\"),\n",
        "        gr.outputs.Textbox(label=\"Execution time\")],\n",
        "    title=\"Run-Length Encoding Algorithm\",\n",
        ")\n",
        "\n",
        "iface.launch()\n"
      ]
    },
    {
      "cell_type": "markdown",
      "source": [
        "**Input a file to encode or decode**"
      ],
      "metadata": {
        "id": "c9t6PtLJqQXW"
      }
    },
    {
      "cell_type": "code",
      "source": [
        "def rle_interface_file(input_file, mode):\n",
        "    with open(input_file.name, \"r\") as file:\n",
        "        input_string = file.read()\n",
        "\n",
        "    if mode == \"Encode\":\n",
        "        start_time = time.time()\n",
        "        result = encode_rle(input_string)\n",
        "        end_time = time.time()\n",
        "    else:\n",
        "        start_time = time.time()\n",
        "        result = decode_rle(input_string)\n",
        "        end_time = time.time()\n",
        "    execution_time = end_time - start_time\n",
        "    with tempfile.NamedTemporaryFile(delete=False) as output_file:\n",
        "        output_file.write(result.encode())\n",
        "    #output_text = f\"Execution Time: {execution_time} seconds\\n Output File: {output_file.name})\"\n",
        "    return output_file.name, execution_time\n",
        "    #return output_file.name\n",
        "\n",
        "\n",
        "iface = gr.Interface(\n",
        "    fn=rle_interface_file,\n",
        "    inputs=[\n",
        "        gr.inputs.File(label=\"Input File\"),\n",
        "        gr.inputs.Radio([\"Encode\", \"Decode\"], label=\"Mode\")\n",
        "    ],\n",
        "    outputs=[\n",
        "        gr.outputs.File(label=\"Output File\"),\n",
        "        gr.outputs.Textbox(label=\"Execution time\")],\n",
        "    title=\"Run-Length Encoding Algorithm\",\n",
        ")\n",
        "\n",
        "iface.launch()\n"
      ],
      "metadata": {
        "id": "X7qMP9d1pcw_",
        "colab": {
          "base_uri": "https://localhost:8080/",
          "height": 879
        },
        "outputId": "3ef9db67-0f23-4575-8f0f-0123cb1353fa"
      },
      "execution_count": null,
      "outputs": [
        {
          "output_type": "stream",
          "name": "stderr",
          "text": [
            "<ipython-input-52-f03298f3d7ed>:24: GradioDeprecationWarning: Usage of gradio.inputs is deprecated, and will not be supported in the future, please import your component from gradio.components\n",
            "  gr.inputs.File(label=\"Input File\"),\n",
            "<ipython-input-52-f03298f3d7ed>:24: GradioDeprecationWarning: `optional` parameter is deprecated, and it has no effect\n",
            "  gr.inputs.File(label=\"Input File\"),\n",
            "<ipython-input-52-f03298f3d7ed>:24: GradioDeprecationWarning: `keep_filename` parameter is deprecated, and it has no effect\n",
            "  gr.inputs.File(label=\"Input File\"),\n",
            "<ipython-input-52-f03298f3d7ed>:25: GradioDeprecationWarning: Usage of gradio.inputs is deprecated, and will not be supported in the future, please import your component from gradio.components\n",
            "  gr.inputs.Radio([\"Encode\", \"Decode\"], label=\"Mode\")\n",
            "<ipython-input-52-f03298f3d7ed>:25: GradioDeprecationWarning: `optional` parameter is deprecated, and it has no effect\n",
            "  gr.inputs.Radio([\"Encode\", \"Decode\"], label=\"Mode\")\n",
            "<ipython-input-52-f03298f3d7ed>:28: GradioDeprecationWarning: Usage of gradio.outputs is deprecated, and will not be supported in the future, please import your components from gradio.components\n",
            "  gr.outputs.File(label=\"Output File\"),\n",
            "<ipython-input-52-f03298f3d7ed>:29: GradioDeprecationWarning: Usage of gradio.outputs is deprecated, and will not be supported in the future, please import your components from gradio.components\n",
            "  gr.outputs.Textbox(label=\"Execution time\")],\n"
          ]
        },
        {
          "output_type": "stream",
          "name": "stdout",
          "text": [
            "Colab notebook detected. To show errors in colab notebook, set debug=True in launch()\n",
            "Note: opening Chrome Inspector may crash demo inside Colab notebooks.\n",
            "\n",
            "To create a public link, set `share=True` in `launch()`.\n"
          ]
        },
        {
          "output_type": "display_data",
          "data": {
            "text/plain": [
              "<IPython.core.display.Javascript object>"
            ],
            "application/javascript": [
              "(async (port, path, width, height, cache, element) => {\n",
              "                        if (!google.colab.kernel.accessAllowed && !cache) {\n",
              "                            return;\n",
              "                        }\n",
              "                        element.appendChild(document.createTextNode(''));\n",
              "                        const url = await google.colab.kernel.proxyPort(port, {cache});\n",
              "\n",
              "                        const external_link = document.createElement('div');\n",
              "                        external_link.innerHTML = `\n",
              "                            <div style=\"font-family: monospace; margin-bottom: 0.5rem\">\n",
              "                                Running on <a href=${new URL(path, url).toString()} target=\"_blank\">\n",
              "                                    https://localhost:${port}${path}\n",
              "                                </a>\n",
              "                            </div>\n",
              "                        `;\n",
              "                        element.appendChild(external_link);\n",
              "\n",
              "                        const iframe = document.createElement('iframe');\n",
              "                        iframe.src = new URL(path, url).toString();\n",
              "                        iframe.height = height;\n",
              "                        iframe.allow = \"autoplay; camera; microphone; clipboard-read; clipboard-write;\"\n",
              "                        iframe.width = width;\n",
              "                        iframe.style.border = 0;\n",
              "                        element.appendChild(iframe);\n",
              "                    })(7882, \"/\", \"100%\", 500, false, window.element)"
            ]
          },
          "metadata": {}
        },
        {
          "output_type": "execute_result",
          "data": {
            "text/plain": []
          },
          "metadata": {},
          "execution_count": 52
        }
      ]
    },
    {
      "cell_type": "markdown",
      "source": [
        "# **Lempel Ziv Welch**"
      ],
      "metadata": {
        "id": "JFMR4uNrJrJk"
      }
    },
    {
      "cell_type": "code",
      "source": [
        "import base64\n",
        "import string\n",
        "import random\n",
        "import ast"
      ],
      "metadata": {
        "id": "p2rJuqZSJt6-"
      },
      "execution_count": null,
      "outputs": []
    },
    {
      "cell_type": "code",
      "source": [
        "def lzw_encode(txt):\n",
        "    compressed = []\n",
        "    dict_size = 256\n",
        "    # 256 kí tự tương ứng vs mã ASCII\n",
        "    dictionary = list(chr(x) for x in range(dict_size))\n",
        "\n",
        "    s = txt[0]\n",
        "    for i in range(1, len(txt)):\n",
        "        c = txt[i]\n",
        "        # Nếu s+c có trong dictionary thì cập nhật lại s\n",
        "        if s+c in dictionary:\n",
        "            s = s + c\n",
        "        # Nếu không có thì s+c sẽ là từ mới được thêm vào từ điển và lưu với mã kí tự bắt đầu từ 256\n",
        "        else:\n",
        "            dictionary.append(s+c)\n",
        "            compressed.append(dictionary.index(s))\n",
        "            s = c\n",
        "    compressed.append(dictionary.index(s))\n",
        "    return (compressed)\n",
        "\n",
        "def lzw_decode(compressed):\n",
        "    dict_size = 256\n",
        "    dictionary = dict((i, chr(i)) for i in range(dict_size))\n",
        "    s = ''\n",
        "    restore = ''\n",
        "    # Lấy ra từng kí tự trong file nén\n",
        "    for k in compressed:\n",
        "        # Nếu k có trong từ điển thì entry sẽ bằng kí tự ban đầu được mã hóa tương ứng còn không thì entry sẽ bằng tập s + phần tử đầu tiên của tập s\n",
        "        if k in dictionary:\n",
        "            entry = dictionary[k]\n",
        "        else:\n",
        "            entry = s + s[0]\n",
        "        # Thêm kí tự vừa được giải nén\n",
        "        restore += entry\n",
        "        # Nếu s không rỗng thì thêm s sẽ là từ mới thêm vào từ điển\n",
        "        if s != '':\n",
        "            dictionary[dict_size] = s + entry[0]\n",
        "            dict_size += 1\n",
        "        # cập nhật lại s\n",
        "        s = entry\n",
        "    return restore"
      ],
      "metadata": {
        "id": "ebjoaAVTOYfV"
      },
      "execution_count": null,
      "outputs": []
    },
    {
      "cell_type": "markdown",
      "source": [
        "**Input a string to encode or decode**"
      ],
      "metadata": {
        "id": "cPkPL_wtNwHM"
      }
    },
    {
      "cell_type": "code",
      "source": [
        "def lzw_interface_str(input_string, mode):\n",
        "    if mode == \"Encode\":\n",
        "        start_time = time.time()\n",
        "        result = lzw_encode(input_string)\n",
        "        end_time = time.time()\n",
        "    else:\n",
        "        start_time = time.time()\n",
        "        result = lzw_decode(ast.literal_eval(input_string))\n",
        "        end_time = time.time()\n",
        "    execution_time = end_time - start_time\n",
        "    return result, execution_time\n",
        "\n",
        "\n",
        "iface = gr.Interface(\n",
        "    fn=lzw_interface_str,\n",
        "    inputs=[\n",
        "        gr.inputs.Textbox(lines=3, label=\"Input String\"),\n",
        "        gr.inputs.Radio([\"Encode\", \"Decode\"], label=\"Mode\")\n",
        "    ],\n",
        "    outputs=[\n",
        "        gr.outputs.Textbox(label=\"Output\"),\n",
        "        gr.outputs.Textbox(label=\"Execution time\")],\n",
        "    title=\"LZW Algorithms\",\n",
        ")\n",
        "\n",
        "iface.launch()"
      ],
      "metadata": {
        "colab": {
          "base_uri": "https://localhost:8080/",
          "height": 879
        },
        "id": "iko-E9WoJ-_A",
        "outputId": "17e2372c-65ab-4d2c-bc07-92bd4cd7a5c0"
      },
      "execution_count": null,
      "outputs": [
        {
          "output_type": "stream",
          "name": "stderr",
          "text": [
            "<ipython-input-6-cbfb2e8c9b74>:17: GradioDeprecationWarning: Usage of gradio.inputs is deprecated, and will not be supported in the future, please import your component from gradio.components\n",
            "  gr.inputs.Textbox(lines=3, label=\"Input String\"),\n",
            "<ipython-input-6-cbfb2e8c9b74>:17: GradioDeprecationWarning: `optional` parameter is deprecated, and it has no effect\n",
            "  gr.inputs.Textbox(lines=3, label=\"Input String\"),\n",
            "<ipython-input-6-cbfb2e8c9b74>:17: GradioDeprecationWarning: `numeric` parameter is deprecated, and it has no effect\n",
            "  gr.inputs.Textbox(lines=3, label=\"Input String\"),\n",
            "<ipython-input-6-cbfb2e8c9b74>:18: GradioDeprecationWarning: Usage of gradio.inputs is deprecated, and will not be supported in the future, please import your component from gradio.components\n",
            "  gr.inputs.Radio([\"Encode\", \"Decode\"], label=\"Mode\")\n",
            "<ipython-input-6-cbfb2e8c9b74>:18: GradioDeprecationWarning: `optional` parameter is deprecated, and it has no effect\n",
            "  gr.inputs.Radio([\"Encode\", \"Decode\"], label=\"Mode\")\n",
            "<ipython-input-6-cbfb2e8c9b74>:21: GradioDeprecationWarning: Usage of gradio.outputs is deprecated, and will not be supported in the future, please import your components from gradio.components\n",
            "  gr.outputs.Textbox(label=\"Output\"),\n",
            "<ipython-input-6-cbfb2e8c9b74>:22: GradioDeprecationWarning: Usage of gradio.outputs is deprecated, and will not be supported in the future, please import your components from gradio.components\n",
            "  gr.outputs.Textbox(label=\"Execution time\")],\n"
          ]
        },
        {
          "output_type": "stream",
          "name": "stdout",
          "text": [
            "Colab notebook detected. To show errors in colab notebook, set debug=True in launch()\n",
            "Note: opening Chrome Inspector may crash demo inside Colab notebooks.\n",
            "\n",
            "To create a public link, set `share=True` in `launch()`.\n"
          ]
        },
        {
          "output_type": "display_data",
          "data": {
            "text/plain": [
              "<IPython.core.display.Javascript object>"
            ],
            "application/javascript": [
              "(async (port, path, width, height, cache, element) => {\n",
              "                        if (!google.colab.kernel.accessAllowed && !cache) {\n",
              "                            return;\n",
              "                        }\n",
              "                        element.appendChild(document.createTextNode(''));\n",
              "                        const url = await google.colab.kernel.proxyPort(port, {cache});\n",
              "\n",
              "                        const external_link = document.createElement('div');\n",
              "                        external_link.innerHTML = `\n",
              "                            <div style=\"font-family: monospace; margin-bottom: 0.5rem\">\n",
              "                                Running on <a href=${new URL(path, url).toString()} target=\"_blank\">\n",
              "                                    https://localhost:${port}${path}\n",
              "                                </a>\n",
              "                            </div>\n",
              "                        `;\n",
              "                        element.appendChild(external_link);\n",
              "\n",
              "                        const iframe = document.createElement('iframe');\n",
              "                        iframe.src = new URL(path, url).toString();\n",
              "                        iframe.height = height;\n",
              "                        iframe.allow = \"autoplay; camera; microphone; clipboard-read; clipboard-write;\"\n",
              "                        iframe.width = width;\n",
              "                        iframe.style.border = 0;\n",
              "                        element.appendChild(iframe);\n",
              "                    })(7860, \"/\", \"100%\", 500, false, window.element)"
            ]
          },
          "metadata": {}
        },
        {
          "output_type": "execute_result",
          "data": {
            "text/plain": []
          },
          "metadata": {},
          "execution_count": 6
        }
      ]
    },
    {
      "cell_type": "markdown",
      "source": [
        "**Input a file to encode or decode**"
      ],
      "metadata": {
        "id": "aRGcklRhN6V7"
      }
    },
    {
      "cell_type": "code",
      "source": [
        "def lzw_interface_file(input_file, mode):\n",
        "    with open(input_file.name, \"r\") as file:\n",
        "        input_string = file.read()\n",
        "\n",
        "    if mode == \"Encode\":\n",
        "        start_time = time.time()\n",
        "        result = lzw_encode(input_string)\n",
        "        end_time = time.time()\n",
        "    else:\n",
        "        start_time = time.time()\n",
        "        result = lzw_decode(ast.literal_eval(input_string))\n",
        "        end_time = time.time()\n",
        "    execution_time = end_time - start_time\n",
        "    with tempfile.NamedTemporaryFile(delete=False) as output_file:\n",
        "        output_file.write(str(result).encode())\n",
        "\n",
        "    return output_file.name, execution_time\n",
        "\n",
        "\n",
        "iface = gr.Interface(\n",
        "    fn=lzw_interface_file,\n",
        "    inputs=[\n",
        "        gr.inputs.File(label=\"Input File\"),\n",
        "        gr.inputs.Radio([\"Encode\", \"Decode\"], label=\"Mode\")\n",
        "    ],\n",
        "    outputs=[\n",
        "        gr.outputs.File(label=\"Output File\"),\n",
        "        gr.outputs.Textbox(label=\"Execution time\")],\n",
        "    title=\"LZW Algorithm\",\n",
        ")\n",
        "\n",
        "iface.launch()\n"
      ],
      "metadata": {
        "colab": {
          "base_uri": "https://localhost:8080/",
          "height": 859
        },
        "id": "iFFdkUIIN8e5",
        "outputId": "8b597f3c-91dd-4fdc-9d22-302103647fd2"
      },
      "execution_count": null,
      "outputs": [
        {
          "output_type": "stream",
          "name": "stderr",
          "text": [
            "<ipython-input-24-457dac1ba475>:23: GradioDeprecationWarning: Usage of gradio.inputs is deprecated, and will not be supported in the future, please import your component from gradio.components\n",
            "  gr.inputs.File(label=\"Input File\"),\n",
            "<ipython-input-24-457dac1ba475>:23: GradioDeprecationWarning: `optional` parameter is deprecated, and it has no effect\n",
            "  gr.inputs.File(label=\"Input File\"),\n",
            "<ipython-input-24-457dac1ba475>:23: GradioDeprecationWarning: `keep_filename` parameter is deprecated, and it has no effect\n",
            "  gr.inputs.File(label=\"Input File\"),\n",
            "<ipython-input-24-457dac1ba475>:24: GradioDeprecationWarning: Usage of gradio.inputs is deprecated, and will not be supported in the future, please import your component from gradio.components\n",
            "  gr.inputs.Radio([\"Encode\", \"Decode\"], label=\"Mode\")\n",
            "<ipython-input-24-457dac1ba475>:24: GradioDeprecationWarning: `optional` parameter is deprecated, and it has no effect\n",
            "  gr.inputs.Radio([\"Encode\", \"Decode\"], label=\"Mode\")\n",
            "<ipython-input-24-457dac1ba475>:27: GradioDeprecationWarning: Usage of gradio.outputs is deprecated, and will not be supported in the future, please import your components from gradio.components\n",
            "  gr.outputs.File(label=\"Output File\"),\n",
            "<ipython-input-24-457dac1ba475>:28: GradioDeprecationWarning: Usage of gradio.outputs is deprecated, and will not be supported in the future, please import your components from gradio.components\n",
            "  gr.outputs.Textbox(label=\"Execution time\")],\n"
          ]
        },
        {
          "output_type": "stream",
          "name": "stdout",
          "text": [
            "Colab notebook detected. To show errors in colab notebook, set debug=True in launch()\n",
            "Note: opening Chrome Inspector may crash demo inside Colab notebooks.\n",
            "\n",
            "To create a public link, set `share=True` in `launch()`.\n"
          ]
        },
        {
          "output_type": "display_data",
          "data": {
            "text/plain": [
              "<IPython.core.display.Javascript object>"
            ],
            "application/javascript": [
              "(async (port, path, width, height, cache, element) => {\n",
              "                        if (!google.colab.kernel.accessAllowed && !cache) {\n",
              "                            return;\n",
              "                        }\n",
              "                        element.appendChild(document.createTextNode(''));\n",
              "                        const url = await google.colab.kernel.proxyPort(port, {cache});\n",
              "\n",
              "                        const external_link = document.createElement('div');\n",
              "                        external_link.innerHTML = `\n",
              "                            <div style=\"font-family: monospace; margin-bottom: 0.5rem\">\n",
              "                                Running on <a href=${new URL(path, url).toString()} target=\"_blank\">\n",
              "                                    https://localhost:${port}${path}\n",
              "                                </a>\n",
              "                            </div>\n",
              "                        `;\n",
              "                        element.appendChild(external_link);\n",
              "\n",
              "                        const iframe = document.createElement('iframe');\n",
              "                        iframe.src = new URL(path, url).toString();\n",
              "                        iframe.height = height;\n",
              "                        iframe.allow = \"autoplay; camera; microphone; clipboard-read; clipboard-write;\"\n",
              "                        iframe.width = width;\n",
              "                        iframe.style.border = 0;\n",
              "                        element.appendChild(iframe);\n",
              "                    })(7866, \"/\", \"100%\", 500, false, window.element)"
            ]
          },
          "metadata": {}
        },
        {
          "output_type": "execute_result",
          "data": {
            "text/plain": []
          },
          "metadata": {},
          "execution_count": 24
        }
      ]
    },
    {
      "cell_type": "markdown",
      "source": [
        "# **Huffman**"
      ],
      "metadata": {
        "id": "v4ZcBHsKoNkf"
      }
    },
    {
      "cell_type": "code",
      "source": [
        "import pandas as pd"
      ],
      "metadata": {
        "id": "-dCZ6iuG8jqF"
      },
      "execution_count": null,
      "outputs": []
    },
    {
      "cell_type": "code",
      "source": [
        "# A Huffman Tree Node\n",
        "class Node:\n",
        "    def __init__(self, prob, symbol, left=None, right=None):\n",
        "        # probability of symbol\n",
        "        self.prob = prob\n",
        "\n",
        "        # symbol\n",
        "        self.symbol = symbol\n",
        "\n",
        "        # left node\n",
        "        self.left = left\n",
        "\n",
        "        # right node\n",
        "        self.right = right\n",
        "\n",
        "        # tree direction (0/1)\n",
        "        self.code = ''"
      ],
      "metadata": {
        "id": "K95VumTsoQ0-"
      },
      "execution_count": null,
      "outputs": []
    },
    {
      "cell_type": "code",
      "source": [
        "codes = dict()"
      ],
      "metadata": {
        "id": "q9tt2RWUok4H"
      },
      "execution_count": null,
      "outputs": []
    },
    {
      "cell_type": "code",
      "source": [
        "\"\"\" A helper function to print the codes of symbols by traveling Huffman Tree\"\"\"\n",
        "def Calculate_Codes(node, val=''):\n",
        "    # huffman code for current node\n",
        "    newVal = val + str(node.code)\n",
        "\n",
        "    if(node.left):\n",
        "        Calculate_Codes(node.left, newVal)\n",
        "    if(node.right):\n",
        "        Calculate_Codes(node.right, newVal)\n",
        "\n",
        "    if(not node.left and not node.right):\n",
        "        codes[node.symbol] = newVal\n",
        "\n",
        "    return codes"
      ],
      "metadata": {
        "id": "BO89YtiAomRw"
      },
      "execution_count": null,
      "outputs": []
    },
    {
      "cell_type": "code",
      "source": [
        "\"\"\" A helper function to calculate the probabilities of symbols in given data\"\"\"\n",
        "def Calculate_Probability(data):\n",
        "    symbols = dict()\n",
        "    for element in data:\n",
        "        if symbols.get(element) == None:\n",
        "            symbols[element] = 1\n",
        "        else:\n",
        "            symbols[element] += 1\n",
        "    return symbols"
      ],
      "metadata": {
        "id": "qac3YPGfopQ7"
      },
      "execution_count": null,
      "outputs": []
    },
    {
      "cell_type": "code",
      "source": [
        "\"\"\" A helper function to obtain the encoded output\"\"\"\n",
        "def Output_Encoded(data, coding):\n",
        "    encoding_output = []\n",
        "    for c in data:\n",
        "      #  print(coding[c], end = '')\n",
        "        encoding_output.append(coding[c])\n",
        "\n",
        "    string = ''.join([str(item) for item in encoding_output])\n",
        "    return string"
      ],
      "metadata": {
        "id": "SwkzXhUeorAI"
      },
      "execution_count": null,
      "outputs": []
    },
    {
      "cell_type": "code",
      "source": [
        "\"\"\" A helper function to calculate the space difference between compressed and non compressed data\"\"\"\n",
        "def Total_Gain(data, coding):\n",
        "    before_compression = len(data) * 8 # total bit space to stor the data before compression\n",
        "    after_compression = 0\n",
        "    symbols = coding.keys()\n",
        "    for symbol in symbols:\n",
        "        count = data.count(symbol)\n",
        "        after_compression += count * len(coding[symbol]) #calculate how many bit is required for that symbol in total\n",
        "    print(\"Space usage before compression (in bits):\", before_compression)\n",
        "    print(\"Space usage after compression (in bits):\",  after_compression)"
      ],
      "metadata": {
        "id": "GOeYihZootoy"
      },
      "execution_count": null,
      "outputs": []
    },
    {
      "cell_type": "code",
      "source": [
        "def Huffman_Encoding(data):\n",
        "    symbol_with_probs = Calculate_Probability(data)\n",
        "    symbols = symbol_with_probs.keys()\n",
        "    probabilities = symbol_with_probs.values()\n",
        "    print(\"symbols: \", symbols)\n",
        "    print(\"probabilities: \", probabilities)\n",
        "\n",
        "    nodes = []\n",
        "\n",
        "    # converting symbols and probabilities into huffman tree nodes\n",
        "    for symbol in symbols:\n",
        "        nodes.append(Node(symbol_with_probs.get(symbol), symbol))\n",
        "\n",
        "    while len(nodes) > 1:\n",
        "        # sort all the nodes in ascending order based on their probability\n",
        "        nodes = sorted(nodes, key=lambda x: x.prob)\n",
        "        # for node in nodes:\n",
        "        #      print(node.symbol, node.prob)\n",
        "\n",
        "        # pick 2 smallest nodes\n",
        "        right = nodes[0]\n",
        "        left = nodes[1]\n",
        "\n",
        "        left.code = 0\n",
        "        right.code = 1\n",
        "\n",
        "        # combine the 2 smallest nodes to create new node\n",
        "        newNode = Node(left.prob+right.prob, left.symbol+right.symbol, left, right)\n",
        "\n",
        "        nodes.remove(left)\n",
        "        nodes.remove(right)\n",
        "        nodes.append(newNode)\n",
        "\n",
        "    huffman_encoding = Calculate_Codes(nodes[0])\n",
        "    print(\"symbols with codes\", huffman_encoding)\n",
        "    Total_Gain(data, huffman_encoding)\n",
        "    encoded_output = Output_Encoded(data,huffman_encoding)\n",
        "    return encoded_output, huffman_encoding, nodes[0]"
      ],
      "metadata": {
        "id": "30FOKG0you1K"
      },
      "execution_count": null,
      "outputs": []
    },
    {
      "cell_type": "code",
      "source": [
        "def Huffman_Decoding(encoded_data, huffman_tree):\n",
        "    tree_head = huffman_tree\n",
        "    decoded_output = []\n",
        "    for x in encoded_data:\n",
        "        if x == '1':\n",
        "            huffman_tree = huffman_tree.right\n",
        "        elif x == '0':\n",
        "            huffman_tree = huffman_tree.left\n",
        "        try:\n",
        "            if huffman_tree.left.symbol == None and huffman_tree.right.symbol == None:\n",
        "                pass\n",
        "        except AttributeError:\n",
        "            decoded_output.append(huffman_tree.symbol)\n",
        "            huffman_tree = tree_head\n",
        "\n",
        "    string = ''.join([str(item) for item in decoded_output])\n",
        "    return string"
      ],
      "metadata": {
        "id": "TRrOtXtuovzG"
      },
      "execution_count": null,
      "outputs": []
    },
    {
      "cell_type": "code",
      "source": [
        "\"\"\" First Test \"\"\"\n",
        "data = \"avvvavava\"\n",
        "print(data)\n",
        "encodingg,coding, tree = Huffman_Encoding(data)\n",
        "print(\"Encoded output\", encodingg)\n",
        "print(\"Encoded output\", encodingg)\n",
        "print(\"Decoded Output\", Huffman_Decoding(encodingg,tree))"
      ],
      "metadata": {
        "colab": {
          "base_uri": "https://localhost:8080/"
        },
        "id": "xAd_uChnoxsK",
        "outputId": "9bc2359c-9a72-4cfb-b7df-3bb36d5de098"
      },
      "execution_count": null,
      "outputs": [
        {
          "output_type": "stream",
          "name": "stdout",
          "text": [
            "avvvavava\n",
            "symbols:  dict_keys(['a', 'v'])\n",
            "probabilities:  dict_values([4, 5])\n",
            "symbols with codes {'v': '0', 'a': '1'}\n",
            "Space usage before compression (in bits): 72\n",
            "Space usage after compression (in bits): 9\n",
            "Encoded output 100010101\n",
            "Encoded output 100010101\n",
            "Decoded Output avvvavava\n"
          ]
        }
      ]
    },
    {
      "cell_type": "code",
      "source": [
        "def draw_table(input_dict):\n",
        "    df = pd.DataFrame.from_dict(input_dict, orient='index', columns=[\"Value\"])\n",
        "    table_html = df.to_html()\n",
        "    return table_html"
      ],
      "metadata": {
        "id": "Ssc4Iwaf8hbF"
      },
      "execution_count": null,
      "outputs": []
    },
    {
      "cell_type": "markdown",
      "source": [
        "**Input a string to Encode and Decode**"
      ],
      "metadata": {
        "id": "M7Ah7KKQiGDZ"
      }
    },
    {
      "cell_type": "code",
      "source": [
        "def Huffman_interface_str(input_string, mode):\n",
        "        start_time = time.time()\n",
        "        result, coding, tree = Huffman_Encoding(input_string)\n",
        "        end_time = time.time()\n",
        "        encode_execution_time = end_time - start_time\n",
        "\n",
        "\n",
        "        start_time = time.time()\n",
        "        result_decode = Huffman_Decoding(result,tree)\n",
        "        end_time = time.time()\n",
        "        decode_execution_time = end_time - start_time\n",
        "        return result, encode_execution_time, result_decode, decode_execution_time\n",
        "\n",
        "iface = gr.Interface(\n",
        "    fn = Huffman_interface_str,\n",
        "    inputs=[\n",
        "        gr.inputs.Textbox(lines=3, label=\"Input String\"),\n",
        "        #gr.inputs.Radio([\"Encode\", \"Decode\"], label=\"Mode\")\n",
        "    ],\n",
        "    outputs=[\n",
        "        gr.outputs.Textbox(label=\"Output Encode\"),\n",
        "        gr.outputs.Textbox(label=\"Encode execution time\"),\n",
        "        #gr.outputs.HTML(),\n",
        "        gr.outputs.Textbox(label=\"Output Decode\"),\n",
        "        gr.outputs.Textbox(label=\"Decode Execution time\")],\n",
        "    title=\"Huffman Coding Algorithms\",\n",
        ")"
      ],
      "metadata": {
        "colab": {
          "base_uri": "https://localhost:8080/",
          "height": 949
        },
        "id": "BoFOA4El06J4",
        "outputId": "d92042c3-0fbe-4fdc-fe86-5e3a8d5caf80"
      },
      "execution_count": null,
      "outputs": [
        {
          "output_type": "stream",
          "name": "stderr",
          "text": [
            "<ipython-input-15-63f0ba224f31>:17: GradioDeprecationWarning: Usage of gradio.inputs is deprecated, and will not be supported in the future, please import your component from gradio.components\n",
            "  gr.inputs.Textbox(lines=3, label=\"Input String\"),\n",
            "<ipython-input-15-63f0ba224f31>:17: GradioDeprecationWarning: `optional` parameter is deprecated, and it has no effect\n",
            "  gr.inputs.Textbox(lines=3, label=\"Input String\"),\n",
            "<ipython-input-15-63f0ba224f31>:17: GradioDeprecationWarning: `numeric` parameter is deprecated, and it has no effect\n",
            "  gr.inputs.Textbox(lines=3, label=\"Input String\"),\n",
            "<ipython-input-15-63f0ba224f31>:21: GradioDeprecationWarning: Usage of gradio.outputs is deprecated, and will not be supported in the future, please import your components from gradio.components\n",
            "  gr.outputs.Textbox(label=\"Output Encode\"),\n",
            "<ipython-input-15-63f0ba224f31>:22: GradioDeprecationWarning: Usage of gradio.outputs is deprecated, and will not be supported in the future, please import your components from gradio.components\n",
            "  gr.outputs.Textbox(label=\"Encode execution time\"),\n",
            "<ipython-input-15-63f0ba224f31>:24: GradioDeprecationWarning: Usage of gradio.outputs is deprecated, and will not be supported in the future, please import your components from gradio.components\n",
            "  gr.outputs.Textbox(label=\"Output Decode\"),\n",
            "<ipython-input-15-63f0ba224f31>:25: GradioDeprecationWarning: Usage of gradio.outputs is deprecated, and will not be supported in the future, please import your components from gradio.components\n",
            "  gr.outputs.Textbox(label=\"Decode Execution time\")],\n",
            "/usr/local/lib/python3.10/dist-packages/gradio/utils.py:835: UserWarning: Expected 2 arguments for function <function Huffman_interface_str at 0x7ff00f6fab00>, received 1.\n",
            "  warnings.warn(\n",
            "/usr/local/lib/python3.10/dist-packages/gradio/utils.py:839: UserWarning: Expected at least 2 arguments for function <function Huffman_interface_str at 0x7ff00f6fab00>, received 1.\n",
            "  warnings.warn(\n"
          ]
        },
        {
          "output_type": "stream",
          "name": "stdout",
          "text": [
            "Colab notebook detected. To show errors in colab notebook, set debug=True in launch()\n",
            "Note: opening Chrome Inspector may crash demo inside Colab notebooks.\n",
            "\n",
            "To create a public link, set `share=True` in `launch()`.\n"
          ]
        },
        {
          "output_type": "display_data",
          "data": {
            "text/plain": [
              "<IPython.core.display.Javascript object>"
            ],
            "application/javascript": [
              "(async (port, path, width, height, cache, element) => {\n",
              "                        if (!google.colab.kernel.accessAllowed && !cache) {\n",
              "                            return;\n",
              "                        }\n",
              "                        element.appendChild(document.createTextNode(''));\n",
              "                        const url = await google.colab.kernel.proxyPort(port, {cache});\n",
              "\n",
              "                        const external_link = document.createElement('div');\n",
              "                        external_link.innerHTML = `\n",
              "                            <div style=\"font-family: monospace; margin-bottom: 0.5rem\">\n",
              "                                Running on <a href=${new URL(path, url).toString()} target=\"_blank\">\n",
              "                                    https://localhost:${port}${path}\n",
              "                                </a>\n",
              "                            </div>\n",
              "                        `;\n",
              "                        element.appendChild(external_link);\n",
              "\n",
              "                        const iframe = document.createElement('iframe');\n",
              "                        iframe.src = new URL(path, url).toString();\n",
              "                        iframe.height = height;\n",
              "                        iframe.allow = \"autoplay; camera; microphone; clipboard-read; clipboard-write;\"\n",
              "                        iframe.width = width;\n",
              "                        iframe.style.border = 0;\n",
              "                        element.appendChild(iframe);\n",
              "                    })(7860, \"/\", \"100%\", 500, false, window.element)"
            ]
          },
          "metadata": {}
        },
        {
          "output_type": "execute_result",
          "data": {
            "text/plain": []
          },
          "metadata": {},
          "execution_count": 15
        }
      ]
    },
    {
      "cell_type": "markdown",
      "source": [
        "**Input a file to Encode and Decode**"
      ],
      "metadata": {
        "id": "Y02SmuNNiNQT"
      }
    },
    {
      "cell_type": "code",
      "source": [
        "def Huffman_interface_file(input_file):\n",
        "        with open(input_file.name,\"r\") as file:\n",
        "            input_string = file.read()\n",
        "\n",
        "        start_time = time.time()\n",
        "        result, coding, tree = Huffman_Encoding(input_string)\n",
        "        end_time = time.time()\n",
        "        encode_execution_time = end_time - start_time\n",
        "        #dict_Huffman = draw_table(result[1])\n",
        "\n",
        "        start_time = time.time()\n",
        "        result_decode = Huffman_Decoding(result,tree)\n",
        "        end_time = time.time()\n",
        "        decode_execution_time = end_time - start_time\n",
        "\n",
        "        with tempfile.NamedTemporaryFile(delete=False) as output_file_encode:\n",
        "            output_file_encode.write(result.encode())\n",
        "\n",
        "        with tempfile.NamedTemporaryFile(delete=False) as output_file_decode:\n",
        "            output_file_decode.write(result_decode.encode())\n",
        "        return output_file_encode.name, encode_execution_time,  output_file_decode.name, decode_execution_time\n",
        "\n",
        "\n",
        "iface = gr.Interface(\n",
        "    fn = Huffman_interface_file,\n",
        "    inputs=[\n",
        "        gr.inputs.File(label=\"Input File\")\n",
        "    ],\n",
        "    outputs=[\n",
        "        gr.outputs.File(label=\"Output Encode\"),\n",
        "        gr.outputs.Textbox(label=\"Encode execution time\"),\n",
        "        gr.outputs.File(label=\"Output Decode\"),\n",
        "        gr.outputs.Textbox(label=\"Decode Execution time\")],\n",
        "    title=\"Huffman Coding Algorithms\",\n",
        ")"
      ],
      "metadata": {
        "colab": {
          "base_uri": "https://localhost:8080/"
        },
        "id": "TCYuXDkhiRDp",
        "outputId": "cf41cf07-e9e2-42a7-8234-275441bfb540"
      },
      "execution_count": null,
      "outputs": [
        {
          "output_type": "stream",
          "name": "stderr",
          "text": [
            "<ipython-input-17-b4ed403006ae>:27: GradioDeprecationWarning: Usage of gradio.inputs is deprecated, and will not be supported in the future, please import your component from gradio.components\n",
            "  gr.inputs.File(label=\"Input File\")\n",
            "<ipython-input-17-b4ed403006ae>:27: GradioDeprecationWarning: `optional` parameter is deprecated, and it has no effect\n",
            "  gr.inputs.File(label=\"Input File\")\n",
            "<ipython-input-17-b4ed403006ae>:27: GradioDeprecationWarning: `keep_filename` parameter is deprecated, and it has no effect\n",
            "  gr.inputs.File(label=\"Input File\")\n",
            "<ipython-input-17-b4ed403006ae>:30: GradioDeprecationWarning: Usage of gradio.outputs is deprecated, and will not be supported in the future, please import your components from gradio.components\n",
            "  gr.outputs.File(label=\"Output Encode\"),\n",
            "<ipython-input-17-b4ed403006ae>:31: GradioDeprecationWarning: Usage of gradio.outputs is deprecated, and will not be supported in the future, please import your components from gradio.components\n",
            "  gr.outputs.Textbox(label=\"Encode execution time\"),\n",
            "<ipython-input-17-b4ed403006ae>:32: GradioDeprecationWarning: Usage of gradio.outputs is deprecated, and will not be supported in the future, please import your components from gradio.components\n",
            "  gr.outputs.File(label=\"Output Decode\"),\n",
            "<ipython-input-17-b4ed403006ae>:33: GradioDeprecationWarning: Usage of gradio.outputs is deprecated, and will not be supported in the future, please import your components from gradio.components\n",
            "  gr.outputs.Textbox(label=\"Decode Execution time\")],\n"
          ]
        }
      ]
    },
    {
      "cell_type": "code",
      "source": [
        "if __name__ == \"__main__\":\n",
        "  iface.launch()"
      ],
      "metadata": {
        "id": "oqYM-LUwoZnV",
        "colab": {
          "base_uri": "https://localhost:8080/",
          "height": 655
        },
        "outputId": "cb345c97-ef04-4c09-aad1-169fd0656fb8"
      },
      "execution_count": null,
      "outputs": [
        {
          "output_type": "stream",
          "name": "stdout",
          "text": [
            "Rerunning server... use `close()` to stop if you need to change `launch()` parameters.\n",
            "----\n",
            "Colab notebook detected. To show errors in colab notebook, set debug=True in launch()\n",
            "Note: opening Chrome Inspector may crash demo inside Colab notebooks.\n",
            "\n",
            "To create a public link, set `share=True` in `launch()`.\n"
          ]
        },
        {
          "output_type": "display_data",
          "data": {
            "text/plain": [
              "<IPython.core.display.Javascript object>"
            ],
            "application/javascript": [
              "(async (port, path, width, height, cache, element) => {\n",
              "                        if (!google.colab.kernel.accessAllowed && !cache) {\n",
              "                            return;\n",
              "                        }\n",
              "                        element.appendChild(document.createTextNode(''));\n",
              "                        const url = await google.colab.kernel.proxyPort(port, {cache});\n",
              "\n",
              "                        const external_link = document.createElement('div');\n",
              "                        external_link.innerHTML = `\n",
              "                            <div style=\"font-family: monospace; margin-bottom: 0.5rem\">\n",
              "                                Running on <a href=${new URL(path, url).toString()} target=\"_blank\">\n",
              "                                    https://localhost:${port}${path}\n",
              "                                </a>\n",
              "                            </div>\n",
              "                        `;\n",
              "                        element.appendChild(external_link);\n",
              "\n",
              "                        const iframe = document.createElement('iframe');\n",
              "                        iframe.src = new URL(path, url).toString();\n",
              "                        iframe.height = height;\n",
              "                        iframe.allow = \"autoplay; camera; microphone; clipboard-read; clipboard-write;\"\n",
              "                        iframe.width = width;\n",
              "                        iframe.style.border = 0;\n",
              "                        element.appendChild(iframe);\n",
              "                    })(7862, \"/\", \"100%\", 500, false, window.element)"
            ]
          },
          "metadata": {}
        }
      ]
    }
  ]
}